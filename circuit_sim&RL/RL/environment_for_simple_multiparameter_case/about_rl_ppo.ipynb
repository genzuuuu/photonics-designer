{
 "cells": [
  {
   "cell_type": "code",
   "execution_count": null,
   "metadata": {},
   "outputs": [],
   "source": [
    "import matplotlib.pyplot as plt\n",
    "plt.plot([1])\n",
    "\n",
    "import numpy as np\n",
    "import gymnasium as gym\n",
    "from gymnasium import spaces\n",
    "\n",
    "import jax\n",
    "import jax.numpy as jnp\n",
    "import matplotlib.pyplot as plt\n",
    "import sax\n",
    "\n",
    "from math import e\n",
    "\n",
    "class filter_env(gym.Env):\n",
    "\n",
    "    def __init__(self, render_mode=\"console\"):\n",
    "        # print(\"a\")\n",
    "        super(filter_env, self).__init__()\n",
    "\n",
    "        self.ring_length = 0 # normalized\n",
    "        self.coupling = 0\n",
    "\n",
    "        self.action_space = spaces.Box(\n",
    "            low=-1, high=1, shape=(2,), dtype=np.float32\n",
    "        )\n",
    "        self.observation_space = spaces.Box(\n",
    "            low=-1, high=1, shape=(2,), dtype=np.float32\n",
    "        )\n",
    "\n",
    "        self.obs_array = []\n",
    "        self.reward_array = []\n",
    "        self.action_array = []\n",
    "\n",
    "\n",
    "    def reset(self, seed=None, options=None):\n",
    "        # print(\"b\")\n",
    "\n",
    "        super().reset(seed=seed, options=options)\n",
    "\n",
    "        self.ring_length = 0\n",
    "        self.coupling = 0\n",
    "\n",
    "        return np.array([self.ring_length, self.coupling]).astype(np.float32), {} \n",
    "\n",
    "    def loss_function_2(self, ring_length, coupling):\n",
    "        # print(\"c\")\n",
    "\n",
    "        loss = ((ring_length-0.4) ** 2 + (coupling+0.6) ** 2)\n",
    "        return loss\n",
    "\n",
    "    def step(self, action):\n",
    "        # print(\"d\")\n",
    "\n",
    "        if ((action[0] < 0) & (self.ring_length+action[0]>-1)) | ((action[0] > 0) & (self.ring_length+action[0]<1)):\n",
    "            self.ring_length += float(action[0])\n",
    "            punishment_1 = 0\n",
    "        else:\n",
    "            punishment_1 = 1\n",
    "\n",
    "        if ((action[1] < 0) & (self.coupling+action[1]>-1)) | ((action[1] > 0) & (self.coupling+action[1]<1)):\n",
    "            self.coupling += float(action[1])\n",
    "            punishment_2 = 0\n",
    "        else:\n",
    "            punishment_2 = 1\n",
    "\n",
    "        punishment_3 = (abs(action[0])+abs(action[1]))*0.5\n",
    "\n",
    "        # reward = 1-self.loss_function_2(self.ring_length, self.coupling)\n",
    "        reward = (1-self.loss_function_2(self.ring_length, self.coupling))\n",
    "        reward = reward-(punishment_1+punishment_2+punishment_3)\n",
    "     \n",
    "        reward = float(reward)\n",
    "        \n",
    "        self.obs_array = self.obs_array + [[self.ring_length, self.coupling]]\n",
    "        self.reward_array = self.reward_array + [reward]\n",
    "        self.action_array = self.action_array + [action]\n",
    "\n",
    "        if reward>0.99:\n",
    "            terminated = True\n",
    "            truncated = False  # we do not limit the number of steps here\n",
    "        \n",
    "            display(self.reward_array[len(self.reward_array)-1])\n",
    "            display(\"Final results: x = \" + str(self.ring_length) + \", y = \" + str(self.coupling) + \", reward = \"+str(self.reward_array[len(self.reward_array)-1]) )\n",
    "\n",
    "            plt.figure()\n",
    "            plt.plot(self.reward_array)\n",
    "            plt.xlabel(\"steps\")\n",
    "            plt.ylabel(\"reward\")\n",
    "            plt.grid()\n",
    "\n",
    "            obs_array_ = np.array(self.obs_array)\n",
    "            action_array_ = np.array(self.action_array)\n",
    "\n",
    "            plt.figure()\n",
    "            plt.plot(obs_array_[:,0])\n",
    "            plt.plot(obs_array_[:,1])\n",
    "            plt.xlabel(\"steps\")\n",
    "            plt.ylabel(\"x, y\")\n",
    "            plt.grid()\n",
    "\n",
    "            plt.figure()\n",
    "            plt.plot(action_array_[:,0])\n",
    "            plt.plot(action_array_[:,1])\n",
    "            plt.xlabel(\"steps\")\n",
    "            plt.ylabel(\"x-action, y-action\")\n",
    "            plt.grid()           \n",
    "        else:\n",
    "            terminated = False\n",
    "            truncated = False  # we do not limit the number of steps here\n",
    "\n",
    "\n",
    "        info = {}\n",
    "\n",
    "        return (\n",
    "            np.array([self.ring_length, self.coupling]).astype(np.float32),\n",
    "            reward,\n",
    "            terminated,\n",
    "            truncated,\n",
    "            info,\n",
    "        )\n",
    "\n",
    "\n",
    "    def close(self):\n",
    "        # print(\"e\")\n",
    "\n",
    "        pass\n"
   ]
  },
  {
   "cell_type": "code",
   "execution_count": 1,
   "metadata": {},
   "outputs": [
    {
     "data": {
      "image/png": "[encoded data removed]",
      "text/plain": [
       "<Figure size 640x480 with 1 Axes>"
      ]
     },
     "metadata": {},
     "output_type": "display_data"
    }
   ],
   "source": [
    "import matplotlib.pyplot as plt\n",
    "plt.plot([1])\n",
    "\n",
    "import numpy as np\n",
    "import gymnasium as gym\n",
    "from gymnasium import spaces\n",
    "\n",
    "import jax\n",
    "import jax.numpy as jnp\n",
    "import matplotlib.pyplot as plt\n",
    "import sax\n",
    "\n",
    "from math import e\n",
    "\n",
    "class filter_env(gym.Env):\n",
    "\n",
    "    def __init__(self, render_mode=\"console\"):\n",
    "        # print(\"a\")\n",
    "        super(filter_env, self).__init__()\n",
    "\n",
    "        self.ring_length = 0 # normalized\n",
    "        self.coupling = 0\n",
    "\n",
    "        self.action_space = spaces.Box(\n",
    "            low=-1, high=1, shape=(2,), dtype=np.float32\n",
    "        )\n",
    "        self.observation_space = spaces.Box(\n",
    "            low=-1, high=1, shape=(2,), dtype=np.float32\n",
    "        )\n",
    "\n",
    "    def reset(self, seed=None, options=None):\n",
    "        # print(\"b\")\n",
    "\n",
    "        super().reset(seed=seed, options=options)\n",
    "\n",
    "        self.ring_length = 0\n",
    "        self.coupling = 0\n",
    "\n",
    "        return np.array([self.ring_length, self.coupling]).astype(np.float32), {} \n",
    "\n",
    "    def loss_function_2(self, ring_length, coupling):\n",
    "        # print(\"c\")\n",
    "\n",
    "        loss = ((ring_length-0.4) ** 2 + (coupling+0.6) ** 2)\n",
    "        return loss\n",
    "\n",
    "    def step(self, action):\n",
    "        # print(\"d\")\n",
    "\n",
    "        if ((action[0] <= 0) & (self.ring_length+action[0]>-1)) | ((action[0] >= 0) & (self.ring_length+action[0]<1)):\n",
    "            self.ring_length += float(action[0])\n",
    "            punishment_1 = 0\n",
    "        else:\n",
    "            punishment_1 = 1\n",
    "\n",
    "        if ((action[1] <= 0) & (self.coupling+action[1]>-1)) | ((action[1] >= 0) & (self.coupling+action[1]<1)):\n",
    "            self.coupling += float(action[1])\n",
    "            punishment_2 = 0\n",
    "        else:\n",
    "            punishment_2 = 1\n",
    "\n",
    "        punishment_3 = (abs(action[0])+abs(action[1]))*0.5\n",
    "\n",
    "        # reward = 1-self.loss_function_2(self.ring_length, self.coupling)\n",
    "        reward = (1-self.loss_function_2(self.ring_length, self.coupling))\n",
    "        reward = reward-(punishment_1+punishment_2+punishment_3)\n",
    "     \n",
    "        reward = float(reward)\n",
    "        \n",
    "        terminated = False\n",
    "        truncated = False  # we do not limit the number of steps here\n",
    "\n",
    "\n",
    "        info = {}\n",
    "\n",
    "        return (\n",
    "            np.array([self.ring_length, self.coupling]).astype(np.float32),\n",
    "            reward,\n",
    "            terminated,\n",
    "            truncated,\n",
    "            info,\n",
    "        )\n",
    "\n",
    "\n",
    "    def close(self):\n",
    "        # print(\"e\")\n",
    "\n",
    "        pass\n"
   ]
  },
  {
   "cell_type": "code",
   "execution_count": 2,
   "metadata": {},
   "outputs": [],
   "source": [
    "from stable_baselines3.common.env_checker import check_env\n",
    "env = filter_env()\n",
    "# If the environment don't follow the interface, an error will be thrown\n",
    "check_env(env, warn=True)\n",
    "\n",
    "from stable_baselines3 import PPO, A2C, DQN, DDPG\n",
    "from stable_baselines3.common.env_util import make_vec_env\n",
    "\n",
    "# Instantiate the env\n",
    "vec_env = make_vec_env(filter_env, n_envs=1)"
   ]
  },
  {
   "cell_type": "code",
   "execution_count": null,
   "metadata": {},
   "outputs": [],
   "source": [
    "# from stable_baselines3.common.noise import NormalActionNoise, OrnsteinUhlenbeckActionNoise\n",
    "# n_actions = env.action_space.shape[-1]\n",
    "# action_noise = NormalActionNoise(mean=np.zeros(n_actions), sigma=0.1 * np.ones(n_actions))\n",
    "# model = DDPG(\"MlpPolicy\", env, action_noise=action_noise, verbose=1)\n",
    "# model.learn(total_timesteps=1, log_interval=10)"
   ]
  },
  {
   "cell_type": "code",
   "execution_count": 3,
   "metadata": {},
   "outputs": [
    {
     "name": "stderr",
     "output_type": "stream",
     "text": [
      "c:\\Users\\oaper\\anaconda3\\Lib\\site-packages\\stable_baselines3\\ppo\\ppo.py:155: UserWarning: You have specified a mini-batch size of 64, but because the `RolloutBuffer` is of size `n_steps * n_envs = 100`, after every 1 untruncated mini-batches, there will be a truncated mini-batch of size 36\n",
      "We recommend using a `batch_size` that is a factor of `n_steps * n_envs`.\n",
      "Info: (n_steps=100 and n_envs=1)\n",
      "  warnings.warn(\n"
     ]
    },
    {
     "data": {
      "application/vnd.jupyter.widget-view+json": {
       "model_id": "30665ff7563f4952923759c5391038dd",
       "version_major": 2,
       "version_minor": 0
      },
      "text/plain": [
       "Output()"
      ]
     },
     "metadata": {},
     "output_type": "display_data"
    },
    {
     "data": {
      "text/html": [
       "<pre style=\"white-space:pre;overflow-x:auto;line-height:normal;font-family:Menlo,'DejaVu Sans Mono',consolas,'Courier New',monospace\"></pre>\n"
      ],
      "text/plain": []
     },
     "metadata": {},
     "output_type": "display_data"
    },
    {
     "data": {
      "text/html": [
       "<pre style=\"white-space:pre;overflow-x:auto;line-height:normal;font-family:Menlo,'DejaVu Sans Mono',consolas,'Courier New',monospace\">\n",
       "</pre>\n"
      ],
      "text/plain": [
       "\n"
      ]
     },
     "metadata": {},
     "output_type": "display_data"
    },
    {
     "name": "stderr",
     "output_type": "stream",
     "text": [
      "c:\\Users\\oaper\\anaconda3\\Lib\\site-packages\\stable_baselines3\\common\\vec_env\\base_vec_env.py:243: UserWarning: You tried to call render() but no `render_mode` was passed to the env constructor.\n",
      "  warnings.warn(\"You tried to call render() but no `render_mode` was passed to the env constructor.\")\n"
     ]
    },
    {
     "data": {
      "text/plain": [
       "'Final results: x = 0.3710986, y = -0.55872166, reward = [0.9974608]'"
      ]
     },
     "metadata": {},
     "output_type": "display_data"
    },
    {
     "data": {
      "image/png": "[encoded data removed]",
      "text/plain": [
       "<Figure size 640x480 with 1 Axes>"
      ]
     },
     "metadata": {},
     "output_type": "display_data"
    },
    {
     "data": {
      "image/png": "[encoded data removed]",
      "text/plain": [
       "<Figure size 640x480 with 1 Axes>"
      ]
     },
     "metadata": {},
     "output_type": "display_data"
    },
    {
     "data": {
      "image/png": "[encoded data removed]",
      "text/plain": [
       "<Figure size 640x480 with 1 Axes>"
      ]
     },
     "metadata": {},
     "output_type": "display_data"
    }
   ],
   "source": [
    "# Train the agent\n",
    "model = PPO(\"MlpPolicy\", env, verbose=0, n_steps=100, gamma=0.99).learn(40000, progress_bar=True)\n",
    "\n",
    "# Test the trained agent\n",
    "# using the vecenv\n",
    "\n",
    "\n",
    "obs = vec_env.reset()\n",
    "obs_array = []\n",
    "reward_array = []\n",
    "action_array = []\n",
    "n_steps = 40\n",
    "steps_array = np.linspace(1,n_steps,n_steps)\n",
    "for step in steps_array:\n",
    "    action, _ = model.predict(obs, deterministic=True)\n",
    "    #print(f\"Step {step + 1}\")\n",
    "    # print(\"Action: \", action)\n",
    "    obs, reward, done, info = vec_env.step(action)\n",
    "    # print(\"obs=\", obs, \"reward=\", reward, \"done=\", done)\n",
    "    vec_env.render()\n",
    "    obs_array = obs_array + [obs]\n",
    "    reward_array = reward_array + [reward]\n",
    "    action_array = action_array + [action]\n",
    "    # if reward>1.95:\n",
    "    #     # Note that the VecEnv resets automatically\n",
    "    #     # when a done signal is encountered\n",
    "    #     print(\"Goal reached!\", \"reward=\", reward)\n",
    "    #     break\n",
    "\n",
    "display(\"Final results: x = \" + str(obs[0][0]) + \", y = \" + str(obs[0][1]) + \", reward = \"+str(reward) )\n",
    "\n",
    "plt.figure()\n",
    "plt.plot(reward_array)\n",
    "plt.xlabel(\"steps\")\n",
    "plt.ylabel(\"reward\")\n",
    "plt.grid()\n",
    "\n",
    "obs_array_ = np.array(obs_array)\n",
    "action_array_ = np.array(action_array)\n",
    "\n",
    "plt.figure()\n",
    "plt.plot(obs_array_[:,:,0])\n",
    "plt.plot(obs_array_[:,:,1])\n",
    "plt.xlabel(\"steps\")\n",
    "plt.ylabel(\"x, y\")\n",
    "plt.grid()\n",
    "\n",
    "plt.figure()\n",
    "plt.plot(action_array_[:,:,0])\n",
    "plt.plot(action_array_[:,:,1])\n",
    "plt.xlabel(\"steps\")\n",
    "plt.ylabel(\"x-action, y-action\")\n",
    "plt.grid()\n"
   ]
  },
  {
   "cell_type": "code",
   "execution_count": null,
   "metadata": {},
   "outputs": [],
   "source": [
    "# Train the agent\n",
    "model = PPO(\"MlpPolicy\", env, verbose=0, n_steps=100, gamma=0.99).learn(10000, progress_bar=True)\n",
    "\n",
    "# Test the trained agent\n",
    "# using the vecenv\n",
    "\n",
    "vec_env.close()\n"
   ]
  }
 ],
 "metadata": {
  "kernelspec": {
   "display_name": "base",
   "language": "python",
   "name": "python3"
  },
  "language_info": {
   "codemirror_mode": {
    "name": "ipython",
    "version": 3
   },
   "file_extension": ".py",
   "mimetype": "text/x-python",
   "name": "python",
   "nbconvert_exporter": "python",
   "pygments_lexer": "ipython3",
   "version": "3.11.5"
  }
 },
 "nbformat": 4,
 "nbformat_minor": 2
}
