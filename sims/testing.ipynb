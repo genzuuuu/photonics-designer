{
 "cells": [
  {
   "cell_type": "code",
   "execution_count": null,
   "metadata": {},
   "outputs": [],
   "source": [
    "import license as license\n",
    "import lumapi\n",
    "import matplotlib.pyplot as plt\n",
    "import numpy as np\n",
    "import pickle\n",
    "\n",
    "import gdsfactory as gf\n",
    "from gdsfactory.generic_tech import LAYER_STACK, get_generic_pdk\n",
    "\n",
    "import gplugins.lumerical as sim\n",
    "\n",
    "import re\n",
    "import math\n",
    "\n",
    "import mmi"
   ]
  },
  {
   "cell_type": "code",
   "execution_count": null,
   "metadata": {},
   "outputs": [],
   "source": [
    "c = mmi1x2(wavelength_points=10, mesh_accuracy=2)\n",
    "c.draw_gds()\n",
    "c.run()"
   ]
  }
 ],
 "metadata": {
  "language_info": {
   "name": "python"
  }
 },
 "nbformat": 4,
 "nbformat_minor": 2
}
