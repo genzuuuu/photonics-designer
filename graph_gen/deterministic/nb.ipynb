{
 "cells": [
  {
   "cell_type": "code",
   "execution_count": 20,
   "metadata": {},
   "outputs": [],
   "source": [
    "import strawberryfields as sf\n",
    "from strawberryfields.ops import *\n",
    "import mentpy as mp\n",
    "import numpy as np"
   ]
  },
  {
   "cell_type": "code",
   "execution_count": 46,
   "metadata": {},
   "outputs": [],
   "source": [
    "circuit = mp.templates.linear_cluster(4)\n",
    "circuit[2]= mp.Ment('Y')"
   ]
  },
  {
   "cell_type": "code",
   "execution_count": 47,
   "metadata": {},
   "outputs": [],
   "source": [
    "p_circuit = sf.Program(2*len(circuit))"
   ]
  },
  {
   "cell_type": "code",
   "execution_count": 52,
   "metadata": {},
   "outputs": [
    {
     "data": {
      "text/plain": [
       "'Y'"
      ]
     },
     "execution_count": 52,
     "metadata": {},
     "output_type": "execute_result"
    }
   ],
   "source": [
    "circuit[2].plane"
   ]
  },
  {
   "cell_type": "code",
   "execution_count": 23,
   "metadata": {},
   "outputs": [],
   "source": [
    "with p_circuit.context as q:\n",
    "    # do dual-rail Hadamard gate\n",
    "    for node in range(len(circuit)):\n",
    "        BSgate(np.pi/4, 0) | (q[2*node], q[2*node+1])\n",
    "    \n",
    "    # do CZ gates for each edge\n",
    "    for edge in circuit.edges:\n",
    "        CZgate(np.pi) | (q[2*edge[0]], q[2*edge[1]])\n",
    "    \n",
    "    # measure operators\n",
    "    for layer in circuit.flow.layers:\n",
    "        for node in layer:\n",
    "            op = circuit[node]\n",
    "            if op is not None:\n",
    "                plane = op.plane\n",
    "                if plane == 'XY':\n",
    "                    # measure in the cos(op.angle)X + sin(op.angle)Y basis\n",
    "                    # can be done by rotating the state with a MZ interferometer and measuring in the X basis\n",
    "                    Rgate(op.angle) | q[2*node]\n",
    "                    Rgate(op.angle) | q[2*node+1]\n",
    "                    BSgate(np.pi/4, 0) | (q[2*node], q[2*node+1])\n",
    "                    MeasureX | q[2*node]\n",
    "                    MeasureX | q[2*node+1]\n",
    "                elif plane == 'XZ':\n",
    "                    # measure in the cos(op.angle)X + sin(op.angle)Z basis\n",
    "                    # can be done by rotating the state with a MZ interferometer and measuring in the X basis\n",
    "                    Rgate(op.angle) | q[2*node]\n",
    "                    Rgate(op.angle) | q[2*node+1]\n",
    "                    BSgate(np.pi/4, 0) | (q[2*node], q[2*node+1])\n",
    "                    MeasureX | q[2*node]\n",
    "                    MeasureX | q[2*node+1]\n",
    "                \n",
    "\n",
    "\n",
    "                    \n"
   ]
  },
  {
   "cell_type": "code",
   "execution_count": 25,
   "metadata": {},
   "outputs": [
    {
     "data": {
      "text/plain": [
       "['/Users/luismantilla/Desktop/UofT/2024-1/Projects/PhotonicEng/photonics-designer/graph_gen/deterministic/circuit_tex/output_2024_April_24_04:43PM.tex',\n",
       " '\\\\documentclass{article}\\n\\\\pagestyle{empty}\\n\\\\usepackage{qcircuit}\\n\\\\begin{document}\\n\\\\Qcircuit {\\n & \\\\multigate{1}{BS}  & \\\\qw  & \\\\qw  & \\\\qw \\\\\\\\\\n & \\\\ghost{BS}  & \\\\multigate{1}{BS}  & \\\\qw  & \\\\qw \\\\\\\\\\n & \\\\qw  & \\\\ghost{BS}  & \\\\multigate{1}{BS}  & \\\\qw \\\\\\\\\\n & \\\\qw  & \\\\qw  & \\\\ghost{BS}  & \\\\qw \\\\\\\\\\n & \\\\qw  & \\\\qw  & \\\\qw  & \\\\qw \\\\\\\\\\n & \\\\qw  & \\\\qw  & \\\\qw  & \\\\qw \\\\\\\\\\n & \\\\qw  & \\\\qw  & \\\\qw  & \\\\qw \\\\\\\\\\n & \\\\qw  & \\\\qw  & \\\\qw  & \\\\qw \\\\\\\\\\n}\\n\\\\end{document}']"
      ]
     },
     "execution_count": 25,
     "metadata": {},
     "output_type": "execute_result"
    }
   ],
   "source": [
    "p_circuit.draw_circuit()"
   ]
  },
  {
   "cell_type": "code",
   "execution_count": 24,
   "metadata": {},
   "outputs": [],
   "source": [
    "eng = sf.Engine(backend=\"gaussian\")\n"
   ]
  },
  {
   "cell_type": "code",
   "execution_count": 7,
   "metadata": {},
   "outputs": [
    {
     "name": "stdout",
     "output_type": "stream",
     "text": [
      "Covariance matrix:\n",
      " [[ 1.11257261 -0.5851662 ]\n",
      " [-0.5851662   1.20659044]]\n"
     ]
    }
   ],
   "source": [
    "results = eng.run(gate_teleportation)\n",
    "_, cov = results.state.reduced_gaussian([2])\n",
    "print(\"Covariance matrix:\\n\", cov)"
   ]
  },
  {
   "cell_type": "code",
   "execution_count": 8,
   "metadata": {},
   "outputs": [
    {
     "name": "stdout",
     "output_type": "stream",
     "text": [
      "3.26784206080346 -9.414841683054753\n"
     ]
    }
   ],
   "source": [
    "m0, m1 = results.samples[0]\n",
    "print(m0, m1)"
   ]
  },
  {
   "cell_type": "code",
   "execution_count": null,
   "metadata": {},
   "outputs": [],
   "source": []
  }
 ],
 "metadata": {
  "kernelspec": {
   "display_name": "mentpy",
   "language": "python",
   "name": "python3"
  },
  "language_info": {
   "codemirror_mode": {
    "name": "ipython",
    "version": 3
   },
   "file_extension": ".py",
   "mimetype": "text/x-python",
   "name": "python",
   "nbconvert_exporter": "python",
   "pygments_lexer": "ipython3",
   "version": "3.11.0"
  }
 },
 "nbformat": 4,
 "nbformat_minor": 2
}
