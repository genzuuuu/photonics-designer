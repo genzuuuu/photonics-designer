{
  "cells": [
    {
      "cell_type": "code",
      "execution_count": 1,
      "metadata": {
        "colab": {
          "base_uri": "https://localhost:8080/"
        },
        "id": "rYzDXA9vJfz1",
        "outputId": "a4b92df4-e763-4cbb-8580-4280f238cf7a"
      },
      "outputs": [],
      "source": [
        "import numpy as np\n",
        "import gymnasium as gym\n",
        "from gymnasium import spaces\n",
        "\n",
        "import jax\n",
        "import jax.numpy as jnp\n",
        "import matplotlib.pyplot as plt\n",
        "import sax\n",
        "\n",
        "class filter_env(gym.Env):\n",
        "\n",
        "    # Define constants for clearer code\n",
        "    UP = 1\n",
        "    DOWN = -1\n",
        "\n",
        "    def __init__(self, render_mode=\"console\"):\n",
        "        super(filter_env, self).__init__()\n",
        "\n",
        "        self.ring_length = 5\n",
        "\n",
        "        # Define action and observation space\n",
        "        # They must be gym.spaces objects\n",
        "        # Example when using discrete actions, we have two: left and right\n",
        "\n",
        "        # For continuous action space, use the following three lines:\n",
        "\n",
        "        # self.action_space = spaces.Box(\n",
        "        #     low=-1, high=1, shape=(1,), dtype=np.float32\n",
        "        # )\n",
        "\n",
        "        # For discrete action space, use the  following two lines: \n",
        "        n_actions = 2\n",
        "        self.action_space = spaces.Discrete(n_actions)\n",
        "        \n",
        "        # The observation will be the coordinate of the agent\n",
        "        # this can be described both by Discrete and Box space\n",
        "        self.observation_space = spaces.Box(\n",
        "            low=1, high=30, shape=(1,), dtype=np.float32\n",
        "        )\n",
        "\n",
        "    def reset(self, seed=None, options=None):\n",
        "        \"\"\"\n",
        "        Important: the observation must be a numpy array\n",
        "        :return: (np.array)\n",
        "        \"\"\"\n",
        "        super().reset(seed=seed, options=options)\n",
        "        # Initialize the agent at the right of the grid\n",
        "        self.ring_length = 5\n",
        "        # here we convert to float32 to make it more general (in case we want to use continuous actions)\n",
        "        return np.array([self.ring_length]).astype(np.float32), {}  # empty info dict\n",
        "\n",
        "    def all_pass_analytical(self, ring_length, wl, coupling, wl0, ng, neff, loss):\n",
        "        \"\"\"Analytic Frequency Domain Response of an all pass filter\"\"\"\n",
        "        detected = jnp.zeros_like(wl)\n",
        "        transmission = 1 - coupling\n",
        "        neff_wl = (\n",
        "            neff + (wl0 - wl) * (ng - neff) / wl0\n",
        "        )  # we expect a linear behavior with respect to wavelength\n",
        "        out = jnp.sqrt(transmission) - 10 ** (-loss * ring_length / 20.0) * jnp.exp(\n",
        "            2j * jnp.pi * neff_wl * ring_length / wl\n",
        "        )\n",
        "        out /= 1 - jnp.sqrt(transmission) * 10 ** (-loss * ring_length / 20.0) * jnp.exp(\n",
        "            2j * jnp.pi * neff_wl * ring_length / wl\n",
        "        )\n",
        "        detected = abs(out) ** 2\n",
        "        return detected\n",
        "\n",
        "    def filter_simulation(self, ring_length):\n",
        "\n",
        "        loss = 0.1  # [dB/μm] (alpha) waveguide loss\n",
        "        neff = 2.34  # Effective index of the waveguides\n",
        "        ng = 3.4  # Group index of the waveguides\n",
        "        wl0 = 1.55  # [μm] the wavelength at which neff and ng are defined\n",
        "        # ring_length = 10.0  # [μm] Length of the ring\n",
        "        coupling = 0.5  # [] coupling of the coupler\n",
        "        wl = jnp.linspace(1.5, 1.6, 1000)  # [μm] Wavelengths to sweep over\n",
        "        \n",
        "        detected = self.all_pass_analytical(ring_length, wl, coupling, wl0, ng, neff, loss) # non-jitted evaluation time\n",
        "\n",
        "        T_min = min(detected)\n",
        "        T_max = max(detected)\n",
        "        wl_min = wl[(detected==T_min)]\n",
        "        # display(T_min, T_max, wl_min)\n",
        "        return T_min, T_max, wl_min\n",
        "        \n",
        "    def loss_function(self, T_min, T_max, wl_filter):\n",
        "        T_filter_min_target = 0\n",
        "        T_filter_max_target = 1\n",
        "        wl_filter_norm_min = 1.5\n",
        "        wl_filter_norm_max = 1.6\n",
        "        wl_filter_target = 1.55\n",
        "        wl_filter_norm = (wl_filter-wl_filter_norm_min)/(wl_filter_norm_max-wl_filter_norm_min)\n",
        "        wl_filter_target_norm = (wl_filter_target-wl_filter_norm_min)/(wl_filter_norm_max-wl_filter_norm_min)\n",
        "        loss = (pow(T_min-T_filter_min_target,2)+pow(T_max-T_filter_max_target,2)+pow(wl_filter_norm-wl_filter_target_norm,2))/3\n",
        "        return loss\n",
        "\n",
        "    def step(self, action):\n",
        "        if action == self.DOWN:\n",
        "            self.ring_length -= 1\n",
        "        elif action == self.UP:\n",
        "            self.ring_length += 1\n",
        "\n",
        "\n",
        "        terminated = False\n",
        "        truncated = False  # we do not limit the number of steps here\n",
        "\n",
        "        T_filter_min, T_filter_max, wl_filter = self.filter_simulation(self.ring_length)\n",
        "        reward = -self.loss_function(T_filter_min, T_filter_max, wl_filter)\n",
        "        reward = float(reward)\n",
        "\n",
        "        info = {}\n",
        "\n",
        "        return (\n",
        "            np.array([self.ring_length]).astype(np.float32),\n",
        "            reward,\n",
        "            terminated,\n",
        "            truncated,\n",
        "            info,\n",
        "        )\n",
        "\n",
        "    def close(self):\n",
        "        pass"
      ]
    },
    {
      "cell_type": "code",
      "execution_count": 2,
      "metadata": {
        "id": "9DOpP_B0-LXm"
      },
      "outputs": [],
      "source": [
        "from stable_baselines3.common.env_checker import check_env"
      ]
    },
    {
      "cell_type": "code",
      "execution_count": 3,
      "metadata": {
        "colab": {
          "base_uri": "https://localhost:8080/"
        },
        "id": "1CcUVatq-P0l",
        "outputId": "cc537a46-11b6-4266-98e1-4f995a558366"
      },
      "outputs": [
        {
          "name": "stderr",
          "output_type": "stream",
          "text": [
            "C:\\Users\\oaper\\AppData\\Local\\Temp\\ipykernel_2808\\2897455854.py:109: DeprecationWarning: Conversion of an array with ndim > 0 to a scalar is deprecated, and will error in future.\n",
            "  reward = float(reward)\n"
          ]
        }
      ],
      "source": [
        "env = filter_env()\n",
        "# If the environment don't follow the interface, an error will be thrown\n",
        "check_env(env, warn=True)"
      ]
    },
    {
      "cell_type": "code",
      "execution_count": 4,
      "metadata": {
        "colab": {
          "base_uri": "https://localhost:8080/"
        },
        "id": "i62yf2LvSAYY",
        "outputId": "67f849c2-fb00-4af5-eeac-c38739c6c928"
      },
      "outputs": [
        {
          "name": "stdout",
          "output_type": "stream",
          "text": [
            "Box(1.0, 30.0, (1,), float32)\n",
            "Discrete(2)\n",
            "1\n",
            "Step 1\n",
            "obs= [4.] reward= -0.11491471108418626 done= False\n",
            "Step 2\n",
            "obs= [3.] reward= -0.4018542897279109 done= False\n",
            "Step 3\n",
            "obs= [2.] reward= -0.19656161952983242 done= False\n"
          ]
        },
        {
          "name": "stderr",
          "output_type": "stream",
          "text": [
            "C:\\Users\\oaper\\AppData\\Local\\Temp\\ipykernel_2808\\2897455854.py:109: DeprecationWarning: Conversion of an array with ndim > 0 to a scalar is deprecated, and will error in future.\n",
            "  reward = float(reward)\n"
          ]
        }
      ],
      "source": [
        "env = filter_env()\n",
        "\n",
        "obs, _ = env.reset()\n",
        "\n",
        "print(env.observation_space)\n",
        "print(env.action_space)\n",
        "print(env.action_space.sample())\n",
        "\n",
        "GO_DOWN = -1\n",
        "# Hardcoded best agent: always go left!\n",
        "n_steps = 3\n",
        "for step in range(n_steps):\n",
        "    print(f\"Step {step + 1}\")\n",
        "    obs, reward, terminated, truncated, info = env.step(GO_DOWN)\n",
        "    done = terminated or truncated\n",
        "    print(\"obs=\", obs, \"reward=\", reward, \"done=\", done)\n",
        "    if done:\n",
        "        print(\"Goal reached!\", \"reward=\", reward)\n",
        "        break"
      ]
    },
    {
      "cell_type": "code",
      "execution_count": 5,
      "metadata": {
        "id": "PQfLBE28SNDr"
      },
      "outputs": [],
      "source": [
        "from stable_baselines3 import PPO, A2C, DQN, DDPG\n",
        "from stable_baselines3.common.env_util import make_vec_env\n",
        "\n",
        "# Instantiate the env\n",
        "vec_env = make_vec_env(filter_env, n_envs=1)"
      ]
    },
    {
      "cell_type": "code",
      "execution_count": 6,
      "metadata": {
        "colab": {
          "base_uri": "https://localhost:8080/"
        },
        "id": "zRV4Q7FVUKB6",
        "outputId": "cc8d70c7-93b3-4720-a4cc-21f3e7b2f770"
      },
      "outputs": [
        {
          "name": "stdout",
          "output_type": "stream",
          "text": [
            "Using cpu device\n",
            "Wrapping the env with a `Monitor` wrapper\n",
            "Wrapping the env in a DummyVecEnv.\n"
          ]
        },
        {
          "name": "stderr",
          "output_type": "stream",
          "text": [
            "C:\\Users\\oaper\\AppData\\Local\\Temp\\ipykernel_2808\\2897455854.py:109: DeprecationWarning: Conversion of an array with ndim > 0 to a scalar is deprecated, and will error in future.\n",
            "  reward = float(reward)\n"
          ]
        }
      ],
      "source": [
        "# Train the agent\n",
        "model = A2C(\"MlpPolicy\", env, verbose=1).learn(100)"
      ]
    },
    {
      "cell_type": "code",
      "execution_count": 7,
      "metadata": {
        "colab": {
          "base_uri": "https://localhost:8080/"
        },
        "id": "BJbeiF0RUN-p",
        "outputId": "3d2af8ef-8a98-400b-fc3d-c23f53634508"
      },
      "outputs": [
        {
          "name": "stdout",
          "output_type": "stream",
          "text": [
            "Step 1\n",
            "Action:  [1]\n",
            "obs= [[6.]] reward= [-0.06692415] done= [False]\n",
            "Step 2\n",
            "Action:  [1]\n",
            "obs= [[7.]] reward= [-0.10934637] done= [False]\n"
          ]
        },
        {
          "name": "stderr",
          "output_type": "stream",
          "text": [
            "C:\\Users\\oaper\\AppData\\Local\\Temp\\ipykernel_2808\\2897455854.py:109: DeprecationWarning: Conversion of an array with ndim > 0 to a scalar is deprecated, and will error in future.\n",
            "  reward = float(reward)\n",
            "c:\\Users\\oaper\\anaconda3\\Lib\\site-packages\\stable_baselines3\\common\\vec_env\\base_vec_env.py:243: UserWarning: You tried to call render() but no `render_mode` was passed to the env constructor.\n",
            "  warnings.warn(\"You tried to call render() but no `render_mode` was passed to the env constructor.\")\n"
          ]
        },
        {
          "name": "stdout",
          "output_type": "stream",
          "text": [
            "Step 3\n",
            "Action:  [1]\n",
            "obs= [[8.]] reward= [-0.0388408] done= [False]\n",
            "Step 4\n",
            "Action:  [1]\n",
            "obs= [[9.]] reward= [-0.10321518] done= [False]\n",
            "Step 5\n",
            "Action:  [1]\n",
            "obs= [[10.]] reward= [-0.02256382] done= [False]\n",
            "Step 6\n",
            "Action:  [0]\n",
            "obs= [[10.]] reward= [-0.02256382] done= [False]\n",
            "Step 7\n",
            "Action:  [0]\n",
            "obs= [[10.]] reward= [-0.02256382] done= [False]\n",
            "Step 8\n",
            "Action:  [0]\n",
            "obs= [[10.]] reward= [-0.02256382] done= [False]\n",
            "Step 9\n",
            "Action:  [0]\n",
            "obs= [[10.]] reward= [-0.02256382] done= [False]\n",
            "Step 10\n",
            "Action:  [0]\n",
            "obs= [[10.]] reward= [-0.02256382] done= [False]\n",
            "Step 11\n",
            "Action:  [0]\n",
            "obs= [[10.]] reward= [-0.02256382] done= [False]\n",
            "Step 12\n",
            "Action:  [0]\n",
            "obs= [[10.]] reward= [-0.02256382] done= [False]\n",
            "Step 13\n",
            "Action:  [0]\n",
            "obs= [[10.]] reward= [-0.02256382] done= [False]\n",
            "Step 14\n",
            "Action:  [0]\n",
            "obs= [[10.]] reward= [-0.02256382] done= [False]\n",
            "Step 15\n",
            "Action:  [0]\n",
            "obs= [[10.]] reward= [-0.02256382] done= [False]\n",
            "Step 16\n",
            "Action:  [0]\n",
            "obs= [[10.]] reward= [-0.02256382] done= [False]\n",
            "Step 17\n",
            "Action:  [0]\n",
            "obs= [[10.]] reward= [-0.02256382] done= [False]\n",
            "Step 18\n",
            "Action:  [0]\n",
            "obs= [[10.]] reward= [-0.02256382] done= [False]\n",
            "Step 19\n",
            "Action:  [0]\n",
            "obs= [[10.]] reward= [-0.02256382] done= [False]\n",
            "Step 20\n",
            "Action:  [0]\n",
            "obs= [[10.]] reward= [-0.02256382] done= [False]\n",
            "Step 21\n",
            "Action:  [0]\n",
            "obs= [[10.]] reward= [-0.02256382] done= [False]\n",
            "Step 22\n",
            "Action:  [0]\n",
            "obs= [[10.]] reward= [-0.02256382] done= [False]\n",
            "Step 23\n",
            "Action:  [0]\n",
            "obs= [[10.]] reward= [-0.02256382] done= [False]\n",
            "Step 24\n",
            "Action:  [0]\n",
            "obs= [[10.]] reward= [-0.02256382] done= [False]\n",
            "Step 25\n",
            "Action:  [0]\n",
            "obs= [[10.]] reward= [-0.02256382] done= [False]\n",
            "Step 26\n",
            "Action:  [0]\n",
            "obs= [[10.]] reward= [-0.02256382] done= [False]\n",
            "Step 27\n",
            "Action:  [0]\n",
            "obs= [[10.]] reward= [-0.02256382] done= [False]\n",
            "Step 28\n",
            "Action:  [0]\n",
            "obs= [[10.]] reward= [-0.02256382] done= [False]\n",
            "Step 29\n",
            "Action:  [0]\n",
            "obs= [[10.]] reward= [-0.02256382] done= [False]\n",
            "Step 30\n",
            "Action:  [0]\n",
            "obs= [[10.]] reward= [-0.02256382] done= [False]\n",
            "Step 31\n",
            "Action:  [0]\n",
            "obs= [[10.]] reward= [-0.02256382] done= [False]\n",
            "Step 32\n",
            "Action:  [0]\n",
            "obs= [[10.]] reward= [-0.02256382] done= [False]\n",
            "Step 33\n",
            "Action:  [0]\n",
            "obs= [[10.]] reward= [-0.02256382] done= [False]\n",
            "Step 34\n",
            "Action:  [0]\n",
            "obs= [[10.]] reward= [-0.02256382] done= [False]\n",
            "Step 35\n",
            "Action:  [0]\n",
            "obs= [[10.]] reward= [-0.02256382] done= [False]\n",
            "Step 36\n",
            "Action:  [0]\n",
            "obs= [[10.]] reward= [-0.02256382] done= [False]\n",
            "Step 37\n",
            "Action:  [0]\n",
            "obs= [[10.]] reward= [-0.02256382] done= [False]\n",
            "Step 38\n",
            "Action:  [0]\n",
            "obs= [[10.]] reward= [-0.02256382] done= [False]\n",
            "Step 39\n",
            "Action:  [0]\n",
            "obs= [[10.]] reward= [-0.02256382] done= [False]\n",
            "Step 40\n",
            "Action:  [0]\n",
            "obs= [[10.]] reward= [-0.02256382] done= [False]\n"
          ]
        }
      ],
      "source": [
        "# Test the trained agent\n",
        "# using the vecenv\n",
        "obs = vec_env.reset()\n",
        "n_steps = 40\n",
        "for step in range(n_steps):\n",
        "    action, _ = model.predict(obs, deterministic=True)\n",
        "    print(f\"Step {step + 1}\")\n",
        "    print(\"Action: \", action)\n",
        "    obs, reward, done, info = vec_env.step(action)\n",
        "    print(\"obs=\", obs, \"reward=\", reward, \"done=\", done)\n",
        "    vec_env.render()\n",
        "    if done:\n",
        "        # Note that the VecEnv resets automatically\n",
        "        # when a done signal is encountered\n",
        "        print(\"Goal reached!\", \"reward=\", reward)\n",
        "        break"
      ]
    },
    {
      "cell_type": "code",
      "execution_count": 8,
      "metadata": {
        "colab": {
          "base_uri": "https://localhost:8080/"
        },
        "id": "9M-kZCCL7PKi",
        "outputId": "b8390277-5e42-479c-8e79-7f40fd706bee"
      },
      "outputs": [
        {
          "name": "stdout",
          "output_type": "stream",
          "text": [
            "Using cpu device\n",
            "Wrapping the env with a `Monitor` wrapper\n",
            "Wrapping the env in a DummyVecEnv.\n"
          ]
        },
        {
          "ename": "AssertionError",
          "evalue": "The algorithm only supports (<class 'gymnasium.spaces.box.Box'>,) as action spaces but Discrete(2) was provided",
          "output_type": "error",
          "traceback": [
            "\u001b[1;31m---------------------------------------------------------------------------\u001b[0m",
            "\u001b[1;31mAssertionError\u001b[0m                            Traceback (most recent call last)",
            "Cell \u001b[1;32mIn[8], line 2\u001b[0m\n\u001b[0;32m      1\u001b[0m \u001b[38;5;66;03m# Train the agent\u001b[39;00m\n\u001b[1;32m----> 2\u001b[0m model_2 \u001b[38;5;241m=\u001b[39m \u001b[43mDDPG\u001b[49m\u001b[43m(\u001b[49m\u001b[38;5;124;43m\"\u001b[39;49m\u001b[38;5;124;43mMlpPolicy\u001b[39;49m\u001b[38;5;124;43m\"\u001b[39;49m\u001b[43m,\u001b[49m\u001b[43m \u001b[49m\u001b[43menv\u001b[49m\u001b[43m,\u001b[49m\u001b[43m \u001b[49m\u001b[43mverbose\u001b[49m\u001b[38;5;241;43m=\u001b[39;49m\u001b[38;5;241;43m1\u001b[39;49m\u001b[43m)\u001b[49m\u001b[38;5;241m.\u001b[39mlearn(\u001b[38;5;241m100\u001b[39m)\n",
            "File \u001b[1;32mc:\\Users\\oaper\\anaconda3\\Lib\\site-packages\\stable_baselines3\\ddpg\\ddpg.py:79\u001b[0m, in \u001b[0;36mDDPG.__init__\u001b[1;34m(self, policy, env, learning_rate, buffer_size, learning_starts, batch_size, tau, gamma, train_freq, gradient_steps, action_noise, replay_buffer_class, replay_buffer_kwargs, optimize_memory_usage, tensorboard_log, policy_kwargs, verbose, seed, device, _init_setup_model)\u001b[0m\n\u001b[0;32m     56\u001b[0m \u001b[38;5;28;01mdef\u001b[39;00m \u001b[38;5;21m__init__\u001b[39m(\n\u001b[0;32m     57\u001b[0m     \u001b[38;5;28mself\u001b[39m,\n\u001b[0;32m     58\u001b[0m     policy: Union[\u001b[38;5;28mstr\u001b[39m, Type[TD3Policy]],\n\u001b[1;32m   (...)\u001b[0m\n\u001b[0;32m     77\u001b[0m     _init_setup_model: \u001b[38;5;28mbool\u001b[39m \u001b[38;5;241m=\u001b[39m \u001b[38;5;28;01mTrue\u001b[39;00m,\n\u001b[0;32m     78\u001b[0m ):\n\u001b[1;32m---> 79\u001b[0m     \u001b[38;5;28;43msuper\u001b[39;49m\u001b[43m(\u001b[49m\u001b[43m)\u001b[49m\u001b[38;5;241;43m.\u001b[39;49m\u001b[38;5;21;43m__init__\u001b[39;49m\u001b[43m(\u001b[49m\n\u001b[0;32m     80\u001b[0m \u001b[43m        \u001b[49m\u001b[43mpolicy\u001b[49m\u001b[38;5;241;43m=\u001b[39;49m\u001b[43mpolicy\u001b[49m\u001b[43m,\u001b[49m\n\u001b[0;32m     81\u001b[0m \u001b[43m        \u001b[49m\u001b[43menv\u001b[49m\u001b[38;5;241;43m=\u001b[39;49m\u001b[43menv\u001b[49m\u001b[43m,\u001b[49m\n\u001b[0;32m     82\u001b[0m \u001b[43m        \u001b[49m\u001b[43mlearning_rate\u001b[49m\u001b[38;5;241;43m=\u001b[39;49m\u001b[43mlearning_rate\u001b[49m\u001b[43m,\u001b[49m\n\u001b[0;32m     83\u001b[0m \u001b[43m        \u001b[49m\u001b[43mbuffer_size\u001b[49m\u001b[38;5;241;43m=\u001b[39;49m\u001b[43mbuffer_size\u001b[49m\u001b[43m,\u001b[49m\n\u001b[0;32m     84\u001b[0m \u001b[43m        \u001b[49m\u001b[43mlearning_starts\u001b[49m\u001b[38;5;241;43m=\u001b[39;49m\u001b[43mlearning_starts\u001b[49m\u001b[43m,\u001b[49m\n\u001b[0;32m     85\u001b[0m \u001b[43m        \u001b[49m\u001b[43mbatch_size\u001b[49m\u001b[38;5;241;43m=\u001b[39;49m\u001b[43mbatch_size\u001b[49m\u001b[43m,\u001b[49m\n\u001b[0;32m     86\u001b[0m \u001b[43m        \u001b[49m\u001b[43mtau\u001b[49m\u001b[38;5;241;43m=\u001b[39;49m\u001b[43mtau\u001b[49m\u001b[43m,\u001b[49m\n\u001b[0;32m     87\u001b[0m \u001b[43m        \u001b[49m\u001b[43mgamma\u001b[49m\u001b[38;5;241;43m=\u001b[39;49m\u001b[43mgamma\u001b[49m\u001b[43m,\u001b[49m\n\u001b[0;32m     88\u001b[0m \u001b[43m        \u001b[49m\u001b[43mtrain_freq\u001b[49m\u001b[38;5;241;43m=\u001b[39;49m\u001b[43mtrain_freq\u001b[49m\u001b[43m,\u001b[49m\n\u001b[0;32m     89\u001b[0m \u001b[43m        \u001b[49m\u001b[43mgradient_steps\u001b[49m\u001b[38;5;241;43m=\u001b[39;49m\u001b[43mgradient_steps\u001b[49m\u001b[43m,\u001b[49m\n\u001b[0;32m     90\u001b[0m \u001b[43m        \u001b[49m\u001b[43maction_noise\u001b[49m\u001b[38;5;241;43m=\u001b[39;49m\u001b[43maction_noise\u001b[49m\u001b[43m,\u001b[49m\n\u001b[0;32m     91\u001b[0m \u001b[43m        \u001b[49m\u001b[43mreplay_buffer_class\u001b[49m\u001b[38;5;241;43m=\u001b[39;49m\u001b[43mreplay_buffer_class\u001b[49m\u001b[43m,\u001b[49m\n\u001b[0;32m     92\u001b[0m \u001b[43m        \u001b[49m\u001b[43mreplay_buffer_kwargs\u001b[49m\u001b[38;5;241;43m=\u001b[39;49m\u001b[43mreplay_buffer_kwargs\u001b[49m\u001b[43m,\u001b[49m\n\u001b[0;32m     93\u001b[0m \u001b[43m        \u001b[49m\u001b[43mpolicy_kwargs\u001b[49m\u001b[38;5;241;43m=\u001b[39;49m\u001b[43mpolicy_kwargs\u001b[49m\u001b[43m,\u001b[49m\n\u001b[0;32m     94\u001b[0m \u001b[43m        \u001b[49m\u001b[43mtensorboard_log\u001b[49m\u001b[38;5;241;43m=\u001b[39;49m\u001b[43mtensorboard_log\u001b[49m\u001b[43m,\u001b[49m\n\u001b[0;32m     95\u001b[0m \u001b[43m        \u001b[49m\u001b[43mverbose\u001b[49m\u001b[38;5;241;43m=\u001b[39;49m\u001b[43mverbose\u001b[49m\u001b[43m,\u001b[49m\n\u001b[0;32m     96\u001b[0m \u001b[43m        \u001b[49m\u001b[43mdevice\u001b[49m\u001b[38;5;241;43m=\u001b[39;49m\u001b[43mdevice\u001b[49m\u001b[43m,\u001b[49m\n\u001b[0;32m     97\u001b[0m \u001b[43m        \u001b[49m\u001b[43mseed\u001b[49m\u001b[38;5;241;43m=\u001b[39;49m\u001b[43mseed\u001b[49m\u001b[43m,\u001b[49m\n\u001b[0;32m     98\u001b[0m \u001b[43m        \u001b[49m\u001b[43moptimize_memory_usage\u001b[49m\u001b[38;5;241;43m=\u001b[39;49m\u001b[43moptimize_memory_usage\u001b[49m\u001b[43m,\u001b[49m\n\u001b[0;32m     99\u001b[0m \u001b[43m        \u001b[49m\u001b[38;5;66;43;03m# Remove all tricks from TD3 to obtain DDPG:\u001b[39;49;00m\n\u001b[0;32m    100\u001b[0m \u001b[43m        \u001b[49m\u001b[38;5;66;43;03m# we still need to specify target_policy_noise > 0 to avoid errors\u001b[39;49;00m\n\u001b[0;32m    101\u001b[0m \u001b[43m        \u001b[49m\u001b[43mpolicy_delay\u001b[49m\u001b[38;5;241;43m=\u001b[39;49m\u001b[38;5;241;43m1\u001b[39;49m\u001b[43m,\u001b[49m\n\u001b[0;32m    102\u001b[0m \u001b[43m        \u001b[49m\u001b[43mtarget_noise_clip\u001b[49m\u001b[38;5;241;43m=\u001b[39;49m\u001b[38;5;241;43m0.0\u001b[39;49m\u001b[43m,\u001b[49m\n\u001b[0;32m    103\u001b[0m \u001b[43m        \u001b[49m\u001b[43mtarget_policy_noise\u001b[49m\u001b[38;5;241;43m=\u001b[39;49m\u001b[38;5;241;43m0.1\u001b[39;49m\u001b[43m,\u001b[49m\n\u001b[0;32m    104\u001b[0m \u001b[43m        \u001b[49m\u001b[43m_init_setup_model\u001b[49m\u001b[38;5;241;43m=\u001b[39;49m\u001b[38;5;28;43;01mFalse\u001b[39;49;00m\u001b[43m,\u001b[49m\n\u001b[0;32m    105\u001b[0m \u001b[43m    \u001b[49m\u001b[43m)\u001b[49m\n\u001b[0;32m    107\u001b[0m     \u001b[38;5;66;03m# Use only one critic\u001b[39;00m\n\u001b[0;32m    108\u001b[0m     \u001b[38;5;28;01mif\u001b[39;00m \u001b[38;5;124m\"\u001b[39m\u001b[38;5;124mn_critics\u001b[39m\u001b[38;5;124m\"\u001b[39m \u001b[38;5;129;01mnot\u001b[39;00m \u001b[38;5;129;01min\u001b[39;00m \u001b[38;5;28mself\u001b[39m\u001b[38;5;241m.\u001b[39mpolicy_kwargs:\n",
            "File \u001b[1;32mc:\\Users\\oaper\\anaconda3\\Lib\\site-packages\\stable_baselines3\\td3\\td3.py:106\u001b[0m, in \u001b[0;36mTD3.__init__\u001b[1;34m(self, policy, env, learning_rate, buffer_size, learning_starts, batch_size, tau, gamma, train_freq, gradient_steps, action_noise, replay_buffer_class, replay_buffer_kwargs, optimize_memory_usage, policy_delay, target_policy_noise, target_noise_clip, stats_window_size, tensorboard_log, policy_kwargs, verbose, seed, device, _init_setup_model)\u001b[0m\n\u001b[0;32m     79\u001b[0m \u001b[38;5;28;01mdef\u001b[39;00m \u001b[38;5;21m__init__\u001b[39m(\n\u001b[0;32m     80\u001b[0m     \u001b[38;5;28mself\u001b[39m,\n\u001b[0;32m     81\u001b[0m     policy: Union[\u001b[38;5;28mstr\u001b[39m, Type[TD3Policy]],\n\u001b[1;32m   (...)\u001b[0m\n\u001b[0;32m    104\u001b[0m     _init_setup_model: \u001b[38;5;28mbool\u001b[39m \u001b[38;5;241m=\u001b[39m \u001b[38;5;28;01mTrue\u001b[39;00m,\n\u001b[0;32m    105\u001b[0m ):\n\u001b[1;32m--> 106\u001b[0m     \u001b[38;5;28;43msuper\u001b[39;49m\u001b[43m(\u001b[49m\u001b[43m)\u001b[49m\u001b[38;5;241;43m.\u001b[39;49m\u001b[38;5;21;43m__init__\u001b[39;49m\u001b[43m(\u001b[49m\n\u001b[0;32m    107\u001b[0m \u001b[43m        \u001b[49m\u001b[43mpolicy\u001b[49m\u001b[43m,\u001b[49m\n\u001b[0;32m    108\u001b[0m \u001b[43m        \u001b[49m\u001b[43menv\u001b[49m\u001b[43m,\u001b[49m\n\u001b[0;32m    109\u001b[0m \u001b[43m        \u001b[49m\u001b[43mlearning_rate\u001b[49m\u001b[43m,\u001b[49m\n\u001b[0;32m    110\u001b[0m \u001b[43m        \u001b[49m\u001b[43mbuffer_size\u001b[49m\u001b[43m,\u001b[49m\n\u001b[0;32m    111\u001b[0m \u001b[43m        \u001b[49m\u001b[43mlearning_starts\u001b[49m\u001b[43m,\u001b[49m\n\u001b[0;32m    112\u001b[0m \u001b[43m        \u001b[49m\u001b[43mbatch_size\u001b[49m\u001b[43m,\u001b[49m\n\u001b[0;32m    113\u001b[0m \u001b[43m        \u001b[49m\u001b[43mtau\u001b[49m\u001b[43m,\u001b[49m\n\u001b[0;32m    114\u001b[0m \u001b[43m        \u001b[49m\u001b[43mgamma\u001b[49m\u001b[43m,\u001b[49m\n\u001b[0;32m    115\u001b[0m \u001b[43m        \u001b[49m\u001b[43mtrain_freq\u001b[49m\u001b[43m,\u001b[49m\n\u001b[0;32m    116\u001b[0m \u001b[43m        \u001b[49m\u001b[43mgradient_steps\u001b[49m\u001b[43m,\u001b[49m\n\u001b[0;32m    117\u001b[0m \u001b[43m        \u001b[49m\u001b[43maction_noise\u001b[49m\u001b[38;5;241;43m=\u001b[39;49m\u001b[43maction_noise\u001b[49m\u001b[43m,\u001b[49m\n\u001b[0;32m    118\u001b[0m \u001b[43m        \u001b[49m\u001b[43mreplay_buffer_class\u001b[49m\u001b[38;5;241;43m=\u001b[39;49m\u001b[43mreplay_buffer_class\u001b[49m\u001b[43m,\u001b[49m\n\u001b[0;32m    119\u001b[0m \u001b[43m        \u001b[49m\u001b[43mreplay_buffer_kwargs\u001b[49m\u001b[38;5;241;43m=\u001b[39;49m\u001b[43mreplay_buffer_kwargs\u001b[49m\u001b[43m,\u001b[49m\n\u001b[0;32m    120\u001b[0m \u001b[43m        \u001b[49m\u001b[43mpolicy_kwargs\u001b[49m\u001b[38;5;241;43m=\u001b[39;49m\u001b[43mpolicy_kwargs\u001b[49m\u001b[43m,\u001b[49m\n\u001b[0;32m    121\u001b[0m \u001b[43m        \u001b[49m\u001b[43mstats_window_size\u001b[49m\u001b[38;5;241;43m=\u001b[39;49m\u001b[43mstats_window_size\u001b[49m\u001b[43m,\u001b[49m\n\u001b[0;32m    122\u001b[0m \u001b[43m        \u001b[49m\u001b[43mtensorboard_log\u001b[49m\u001b[38;5;241;43m=\u001b[39;49m\u001b[43mtensorboard_log\u001b[49m\u001b[43m,\u001b[49m\n\u001b[0;32m    123\u001b[0m \u001b[43m        \u001b[49m\u001b[43mverbose\u001b[49m\u001b[38;5;241;43m=\u001b[39;49m\u001b[43mverbose\u001b[49m\u001b[43m,\u001b[49m\n\u001b[0;32m    124\u001b[0m \u001b[43m        \u001b[49m\u001b[43mdevice\u001b[49m\u001b[38;5;241;43m=\u001b[39;49m\u001b[43mdevice\u001b[49m\u001b[43m,\u001b[49m\n\u001b[0;32m    125\u001b[0m \u001b[43m        \u001b[49m\u001b[43mseed\u001b[49m\u001b[38;5;241;43m=\u001b[39;49m\u001b[43mseed\u001b[49m\u001b[43m,\u001b[49m\n\u001b[0;32m    126\u001b[0m \u001b[43m        \u001b[49m\u001b[43msde_support\u001b[49m\u001b[38;5;241;43m=\u001b[39;49m\u001b[38;5;28;43;01mFalse\u001b[39;49;00m\u001b[43m,\u001b[49m\n\u001b[0;32m    127\u001b[0m \u001b[43m        \u001b[49m\u001b[43moptimize_memory_usage\u001b[49m\u001b[38;5;241;43m=\u001b[39;49m\u001b[43moptimize_memory_usage\u001b[49m\u001b[43m,\u001b[49m\n\u001b[0;32m    128\u001b[0m \u001b[43m        \u001b[49m\u001b[43msupported_action_spaces\u001b[49m\u001b[38;5;241;43m=\u001b[39;49m\u001b[43m(\u001b[49m\u001b[43mspaces\u001b[49m\u001b[38;5;241;43m.\u001b[39;49m\u001b[43mBox\u001b[49m\u001b[43m,\u001b[49m\u001b[43m)\u001b[49m\u001b[43m,\u001b[49m\n\u001b[0;32m    129\u001b[0m \u001b[43m        \u001b[49m\u001b[43msupport_multi_env\u001b[49m\u001b[38;5;241;43m=\u001b[39;49m\u001b[38;5;28;43;01mTrue\u001b[39;49;00m\u001b[43m,\u001b[49m\n\u001b[0;32m    130\u001b[0m \u001b[43m    \u001b[49m\u001b[43m)\u001b[49m\n\u001b[0;32m    132\u001b[0m     \u001b[38;5;28mself\u001b[39m\u001b[38;5;241m.\u001b[39mpolicy_delay \u001b[38;5;241m=\u001b[39m policy_delay\n\u001b[0;32m    133\u001b[0m     \u001b[38;5;28mself\u001b[39m\u001b[38;5;241m.\u001b[39mtarget_noise_clip \u001b[38;5;241m=\u001b[39m target_noise_clip\n",
            "File \u001b[1;32mc:\\Users\\oaper\\anaconda3\\Lib\\site-packages\\stable_baselines3\\common\\off_policy_algorithm.py:110\u001b[0m, in \u001b[0;36mOffPolicyAlgorithm.__init__\u001b[1;34m(self, policy, env, learning_rate, buffer_size, learning_starts, batch_size, tau, gamma, train_freq, gradient_steps, action_noise, replay_buffer_class, replay_buffer_kwargs, optimize_memory_usage, policy_kwargs, stats_window_size, tensorboard_log, verbose, device, support_multi_env, monitor_wrapper, seed, use_sde, sde_sample_freq, use_sde_at_warmup, sde_support, supported_action_spaces)\u001b[0m\n\u001b[0;32m     80\u001b[0m \u001b[38;5;28;01mdef\u001b[39;00m \u001b[38;5;21m__init__\u001b[39m(\n\u001b[0;32m     81\u001b[0m     \u001b[38;5;28mself\u001b[39m,\n\u001b[0;32m     82\u001b[0m     policy: Union[\u001b[38;5;28mstr\u001b[39m, Type[BasePolicy]],\n\u001b[1;32m   (...)\u001b[0m\n\u001b[0;32m    108\u001b[0m     supported_action_spaces: Optional[Tuple[Type[spaces\u001b[38;5;241m.\u001b[39mSpace], \u001b[38;5;241m.\u001b[39m\u001b[38;5;241m.\u001b[39m\u001b[38;5;241m.\u001b[39m]] \u001b[38;5;241m=\u001b[39m \u001b[38;5;28;01mNone\u001b[39;00m,\n\u001b[0;32m    109\u001b[0m ):\n\u001b[1;32m--> 110\u001b[0m     \u001b[38;5;28;43msuper\u001b[39;49m\u001b[43m(\u001b[49m\u001b[43m)\u001b[49m\u001b[38;5;241;43m.\u001b[39;49m\u001b[38;5;21;43m__init__\u001b[39;49m\u001b[43m(\u001b[49m\n\u001b[0;32m    111\u001b[0m \u001b[43m        \u001b[49m\u001b[43mpolicy\u001b[49m\u001b[38;5;241;43m=\u001b[39;49m\u001b[43mpolicy\u001b[49m\u001b[43m,\u001b[49m\n\u001b[0;32m    112\u001b[0m \u001b[43m        \u001b[49m\u001b[43menv\u001b[49m\u001b[38;5;241;43m=\u001b[39;49m\u001b[43menv\u001b[49m\u001b[43m,\u001b[49m\n\u001b[0;32m    113\u001b[0m \u001b[43m        \u001b[49m\u001b[43mlearning_rate\u001b[49m\u001b[38;5;241;43m=\u001b[39;49m\u001b[43mlearning_rate\u001b[49m\u001b[43m,\u001b[49m\n\u001b[0;32m    114\u001b[0m \u001b[43m        \u001b[49m\u001b[43mpolicy_kwargs\u001b[49m\u001b[38;5;241;43m=\u001b[39;49m\u001b[43mpolicy_kwargs\u001b[49m\u001b[43m,\u001b[49m\n\u001b[0;32m    115\u001b[0m \u001b[43m        \u001b[49m\u001b[43mstats_window_size\u001b[49m\u001b[38;5;241;43m=\u001b[39;49m\u001b[43mstats_window_size\u001b[49m\u001b[43m,\u001b[49m\n\u001b[0;32m    116\u001b[0m \u001b[43m        \u001b[49m\u001b[43mtensorboard_log\u001b[49m\u001b[38;5;241;43m=\u001b[39;49m\u001b[43mtensorboard_log\u001b[49m\u001b[43m,\u001b[49m\n\u001b[0;32m    117\u001b[0m \u001b[43m        \u001b[49m\u001b[43mverbose\u001b[49m\u001b[38;5;241;43m=\u001b[39;49m\u001b[43mverbose\u001b[49m\u001b[43m,\u001b[49m\n\u001b[0;32m    118\u001b[0m \u001b[43m        \u001b[49m\u001b[43mdevice\u001b[49m\u001b[38;5;241;43m=\u001b[39;49m\u001b[43mdevice\u001b[49m\u001b[43m,\u001b[49m\n\u001b[0;32m    119\u001b[0m \u001b[43m        \u001b[49m\u001b[43msupport_multi_env\u001b[49m\u001b[38;5;241;43m=\u001b[39;49m\u001b[43msupport_multi_env\u001b[49m\u001b[43m,\u001b[49m\n\u001b[0;32m    120\u001b[0m \u001b[43m        \u001b[49m\u001b[43mmonitor_wrapper\u001b[49m\u001b[38;5;241;43m=\u001b[39;49m\u001b[43mmonitor_wrapper\u001b[49m\u001b[43m,\u001b[49m\n\u001b[0;32m    121\u001b[0m \u001b[43m        \u001b[49m\u001b[43mseed\u001b[49m\u001b[38;5;241;43m=\u001b[39;49m\u001b[43mseed\u001b[49m\u001b[43m,\u001b[49m\n\u001b[0;32m    122\u001b[0m \u001b[43m        \u001b[49m\u001b[43muse_sde\u001b[49m\u001b[38;5;241;43m=\u001b[39;49m\u001b[43muse_sde\u001b[49m\u001b[43m,\u001b[49m\n\u001b[0;32m    123\u001b[0m \u001b[43m        \u001b[49m\u001b[43msde_sample_freq\u001b[49m\u001b[38;5;241;43m=\u001b[39;49m\u001b[43msde_sample_freq\u001b[49m\u001b[43m,\u001b[49m\n\u001b[0;32m    124\u001b[0m \u001b[43m        \u001b[49m\u001b[43msupported_action_spaces\u001b[49m\u001b[38;5;241;43m=\u001b[39;49m\u001b[43msupported_action_spaces\u001b[49m\u001b[43m,\u001b[49m\n\u001b[0;32m    125\u001b[0m \u001b[43m    \u001b[49m\u001b[43m)\u001b[49m\n\u001b[0;32m    126\u001b[0m     \u001b[38;5;28mself\u001b[39m\u001b[38;5;241m.\u001b[39mbuffer_size \u001b[38;5;241m=\u001b[39m buffer_size\n\u001b[0;32m    127\u001b[0m     \u001b[38;5;28mself\u001b[39m\u001b[38;5;241m.\u001b[39mbatch_size \u001b[38;5;241m=\u001b[39m batch_size\n",
            "File \u001b[1;32mc:\\Users\\oaper\\anaconda3\\Lib\\site-packages\\stable_baselines3\\common\\base_class.py:180\u001b[0m, in \u001b[0;36mBaseAlgorithm.__init__\u001b[1;34m(self, policy, env, learning_rate, policy_kwargs, stats_window_size, tensorboard_log, verbose, device, support_multi_env, monitor_wrapper, seed, use_sde, sde_sample_freq, supported_action_spaces)\u001b[0m\n\u001b[0;32m    177\u001b[0m \u001b[38;5;28mself\u001b[39m\u001b[38;5;241m.\u001b[39m_vec_normalize_env \u001b[38;5;241m=\u001b[39m unwrap_vec_normalize(env)\n\u001b[0;32m    179\u001b[0m \u001b[38;5;28;01mif\u001b[39;00m supported_action_spaces \u001b[38;5;129;01mis\u001b[39;00m \u001b[38;5;129;01mnot\u001b[39;00m \u001b[38;5;28;01mNone\u001b[39;00m:\n\u001b[1;32m--> 180\u001b[0m     \u001b[38;5;28;01massert\u001b[39;00m \u001b[38;5;28misinstance\u001b[39m(\u001b[38;5;28mself\u001b[39m\u001b[38;5;241m.\u001b[39maction_space, supported_action_spaces), (\n\u001b[0;32m    181\u001b[0m         \u001b[38;5;124mf\u001b[39m\u001b[38;5;124m\"\u001b[39m\u001b[38;5;124mThe algorithm only supports \u001b[39m\u001b[38;5;132;01m{\u001b[39;00msupported_action_spaces\u001b[38;5;132;01m}\u001b[39;00m\u001b[38;5;124m as action spaces \u001b[39m\u001b[38;5;124m\"\u001b[39m\n\u001b[0;32m    182\u001b[0m         \u001b[38;5;124mf\u001b[39m\u001b[38;5;124m\"\u001b[39m\u001b[38;5;124mbut \u001b[39m\u001b[38;5;132;01m{\u001b[39;00m\u001b[38;5;28mself\u001b[39m\u001b[38;5;241m.\u001b[39maction_space\u001b[38;5;132;01m}\u001b[39;00m\u001b[38;5;124m was provided\u001b[39m\u001b[38;5;124m\"\u001b[39m\n\u001b[0;32m    183\u001b[0m     )\n\u001b[0;32m    185\u001b[0m \u001b[38;5;28;01mif\u001b[39;00m \u001b[38;5;129;01mnot\u001b[39;00m support_multi_env \u001b[38;5;129;01mand\u001b[39;00m \u001b[38;5;28mself\u001b[39m\u001b[38;5;241m.\u001b[39mn_envs \u001b[38;5;241m>\u001b[39m \u001b[38;5;241m1\u001b[39m:\n\u001b[0;32m    186\u001b[0m     \u001b[38;5;28;01mraise\u001b[39;00m \u001b[38;5;167;01mValueError\u001b[39;00m(\n\u001b[0;32m    187\u001b[0m         \u001b[38;5;124m\"\u001b[39m\u001b[38;5;124mError: the model does not support multiple envs; it requires \u001b[39m\u001b[38;5;124m\"\u001b[39m \u001b[38;5;124m\"\u001b[39m\u001b[38;5;124ma single vectorized environment.\u001b[39m\u001b[38;5;124m\"\u001b[39m\n\u001b[0;32m    188\u001b[0m     )\n",
            "\u001b[1;31mAssertionError\u001b[0m: The algorithm only supports (<class 'gymnasium.spaces.box.Box'>,) as action spaces but Discrete(2) was provided"
          ]
        }
      ],
      "source": [
        "# Train the agent \n",
        "# Only works with continuous action spaces.\n",
        "\n",
        "model_2 = DDPG(\"MlpPolicy\", env, verbose=1).learn(100)"
      ]
    },
    {
      "cell_type": "code",
      "execution_count": null,
      "metadata": {
        "colab": {
          "base_uri": "https://localhost:8080/"
        },
        "id": "pIzcQY0Z7Yxb",
        "outputId": "398e7b78-1886-437b-ed29-2ac4905822d1"
      },
      "outputs": [
        {
          "name": "stdout",
          "output_type": "stream",
          "text": [
            "Step 1\n",
            "Action:  [1]\n",
            "obs= [[10.]] reward= [0.] done= [False]\n",
            "..........x\n",
            "Step 2\n",
            "Action:  [1]\n",
            "obs= [[10.]] reward= [0.] done= [False]\n",
            "..........x\n",
            "Step 3\n",
            "Action:  [1]\n",
            "obs= [[10.]] reward= [0.] done= [False]\n",
            "..........x\n",
            "Step 4\n",
            "Action:  [1]\n",
            "obs= [[10.]] reward= [0.] done= [False]\n",
            "..........x\n",
            "Step 5\n",
            "Action:  [1]\n",
            "obs= [[10.]] reward= [0.] done= [False]\n",
            "..........x\n",
            "Step 6\n",
            "Action:  [1]\n",
            "obs= [[10.]] reward= [0.] done= [False]\n",
            "..........x\n",
            "Step 7\n",
            "Action:  [1]\n",
            "obs= [[10.]] reward= [0.] done= [False]\n",
            "..........x\n",
            "Step 8\n",
            "Action:  [1]\n",
            "obs= [[10.]] reward= [0.] done= [False]\n",
            "..........x\n",
            "Step 9\n",
            "Action:  [1]\n",
            "obs= [[10.]] reward= [0.] done= [False]\n",
            "..........x\n",
            "Step 10\n",
            "Action:  [1]\n",
            "obs= [[10.]] reward= [0.] done= [False]\n",
            "..........x\n",
            "Step 11\n",
            "Action:  [1]\n",
            "obs= [[10.]] reward= [0.] done= [False]\n",
            "..........x\n",
            "Step 12\n",
            "Action:  [1]\n",
            "obs= [[10.]] reward= [0.] done= [False]\n",
            "..........x\n",
            "Step 13\n",
            "Action:  [1]\n",
            "obs= [[10.]] reward= [0.] done= [False]\n",
            "..........x\n",
            "Step 14\n",
            "Action:  [1]\n",
            "obs= [[10.]] reward= [0.] done= [False]\n",
            "..........x\n",
            "Step 15\n",
            "Action:  [1]\n",
            "obs= [[10.]] reward= [0.] done= [False]\n",
            "..........x\n",
            "Step 16\n",
            "Action:  [1]\n",
            "obs= [[10.]] reward= [0.] done= [False]\n",
            "..........x\n",
            "Step 17\n",
            "Action:  [1]\n",
            "obs= [[10.]] reward= [0.] done= [False]\n",
            "..........x\n",
            "Step 18\n",
            "Action:  [1]\n",
            "obs= [[10.]] reward= [0.] done= [False]\n",
            "..........x\n",
            "Step 19\n",
            "Action:  [1]\n",
            "obs= [[10.]] reward= [0.] done= [False]\n",
            "..........x\n",
            "Step 20\n",
            "Action:  [1]\n",
            "obs= [[10.]] reward= [0.] done= [False]\n",
            "..........x\n"
          ]
        }
      ],
      "source": [
        "# Test the trained agent\n",
        "# using the vecenv\n",
        "obs = vec_env.reset()\n",
        "n_steps = 20\n",
        "for step in range(n_steps):\n",
        "    action, _ = model_2.predict(obs, deterministic=True)\n",
        "    print(f\"Step {step + 1}\")\n",
        "    print(\"Action: \", action)\n",
        "    obs, reward, done, info = vec_env.step(action)\n",
        "    print(\"obs=\", obs, \"reward=\", reward, \"done=\", done)\n",
        "    vec_env.render()\n",
        "    if done:\n",
        "        # Note that the VecEnv resets automatically\n",
        "        # when a done signal is encountered\n",
        "        print(\"Goal reached!\", \"reward=\", reward)\n",
        "        break"
      ]
    }
  ],
  "metadata": {
    "accelerator": "GPU",
    "colab": {
      "name": "5.custom_gym_env.ipynb",
      "provenance": []
    },
    "kernelspec": {
      "display_name": "Python 3 (ipykernel)",
      "language": "python",
      "name": "python3"
    },
    "language_info": {
      "codemirror_mode": {
        "name": "ipython",
        "version": 3
      },
      "file_extension": ".py",
      "mimetype": "text/x-python",
      "name": "python",
      "nbconvert_exporter": "python",
      "pygments_lexer": "ipython3",
      "version": "3.11.5"
    },
    "vscode": {
      "interpreter": {
        "hash": "3201c96db5836b171d01fee72ea1be894646622d4b41771abf25c98b548a611d"
      }
    }
  },
  "nbformat": 4,
  "nbformat_minor": 0
}
